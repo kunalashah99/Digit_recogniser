{
 "cells": [
  {
   "cell_type": "markdown",
   "metadata": {},
   "source": [
    "# Imports"
   ]
  },
  {
   "cell_type": "code",
   "execution_count": 1,
   "metadata": {},
   "outputs": [],
   "source": [
    "import torch\n",
    "import torch.nn as nn\n",
    "import  numpy as np  \n",
    "import torchvision\n",
    "import torchvision.transforms as transforms\n",
    "import pandas as pd\n",
    "import csv                 \n"
   ]
  },
  {
   "cell_type": "markdown",
   "metadata": {},
   "source": [
    "# Data loading"
   ]
  },
  {
   "cell_type": "code",
   "execution_count": 2,
   "metadata": {},
   "outputs": [],
   "source": [
    "from asyncio.unix_events import BaseChildWatcher\n",
    "\n",
    "\n",
    "input_size = 784\n",
    "hidden_size = 100\n",
    "hidden_size1 = 50 \n",
    "num_classes = 10\n",
    "num_epochs = 99\n",
    "learning_rate = 0.001\n",
    "batch_size = 100\n",
    "train_size = 42000\n",
    "\n",
    "\n",
    "training_df = pd.read_csv(\"train.csv\")\n",
    "test_df = pd.read_csv(\"test.csv\")\n",
    "\n",
    "training_set = training_df.to_numpy()\n",
    "test_set = test_df.to_numpy()\n",
    "test_set = torch.Tensor(test_set)\n",
    "\n",
    "# print(test_set.type())\n",
    "\n",
    "train = torch.tensor(training_set[0:train_size,1:],dtype=torch.float)\n",
    "# validation = torch.tensor(training_set[train_size:,1:],dtype=torch.float)\n",
    "\n",
    "labels_1 = torch.tensor(training_set[:train_size,0])\n",
    "# labels_2 = torch.tensor(training_set[train_size:,0])\n",
    "\n",
    "train_set = [(x,y) for x,y in zip(train, labels_1)]\n",
    "# valid_set = [(x,y) for x,y in zip(test, labels_2)]\n",
    "\n",
    "train_loader = torch.utils.data.DataLoader(dataset = train_set, batch_size= batch_size)\n",
    "test_loader = torch.utils.data.DataLoader(dataset = test_set)\n",
    "# valid_loader = torch.utils.data.DataLoader(dataset = valid_set)\n",
    "\n"
   ]
  },
  {
   "cell_type": "markdown",
   "metadata": {},
   "source": [
    "# Creating the Layers of the model"
   ]
  },
  {
   "cell_type": "code",
   "execution_count": 9,
   "metadata": {},
   "outputs": [],
   "source": [
    "class NeuralNet(nn.Module):\n",
    "    def __init__(self, input_size,hidden_size, hidden_size1 ,num_classes):\n",
    "        super(NeuralNet,self).__init__()\n",
    "        self.l1 = nn.Linear(input_size, hidden_size)\n",
    "        self.relu = nn.ReLU()\n",
    "        self.l2 = nn.Linear(hidden_size, hidden_size1)\n",
    "        self.l3 = nn.Linear (hidden_size1, num_classes)\n",
    "\n",
    "    def forward(self, x):\n",
    "        out =  self.l1(x)\n",
    "        out = self.relu(out)\n",
    "        out = self.l2(out)\n",
    "        out = self.relu(out)\n",
    "        out  = self.l3(out)\n",
    "        return out"
   ]
  },
  {
   "cell_type": "code",
   "execution_count": 10,
   "metadata": {},
   "outputs": [],
   "source": [
    "model = NeuralNet(input_size, hidden_size, hidden_size1, num_classes)\n",
    "criterion = nn.CrossEntropyLoss()\n",
    "optimiser =  torch.optim.Adam(model.parameters(), lr = learning_rate)"
   ]
  },
  {
   "cell_type": "markdown",
   "metadata": {},
   "source": [
    "# Itterations     "
   ]
  },
  {
   "cell_type": "code",
   "execution_count": 11,
   "metadata": {},
   "outputs": [
    {
     "name": "stdout",
     "output_type": "stream",
     "text": [
      "0 : 0.12633855640888214\n",
      "1 : 0.08144545555114746\n",
      "2 : 0.07084593176841736\n",
      "3 : 0.08527415245771408\n",
      "4 : 0.04969019815325737\n",
      "5 : 0.01695530116558075\n",
      "6 : 0.013571759685873985\n",
      "7 : 0.03479849547147751\n",
      "8 : 0.019881226122379303\n",
      "9 : 0.018163934350013733\n",
      "10 : 0.016751902177929878\n",
      "11 : 0.031984731554985046\n",
      "12 : 0.005421509966254234\n",
      "13 : 0.007945586927235126\n",
      "14 : 0.014129969291388988\n",
      "15 : 0.014559349976480007\n",
      "16 : 0.027705619111657143\n",
      "17 : 0.04013264179229736\n",
      "18 : 0.10340166091918945\n",
      "19 : 0.0006451225490309298\n",
      "20 : 0.08668612688779831\n",
      "21 : 0.01141213160008192\n",
      "22 : 0.011742825619876385\n",
      "23 : 0.005395533982664347\n",
      "24 : 0.017349863424897194\n",
      "25 : 0.012126315385103226\n",
      "26 : 0.04564396291971207\n",
      "27 : 0.010706152766942978\n",
      "28 : 0.012663265690207481\n",
      "29 : 0.049656499177217484\n",
      "30 : 0.049988728016614914\n",
      "31 : 0.00026299155433662236\n",
      "32 : 0.03174447640776634\n",
      "33 : 0.07370324432849884\n",
      "34 : 0.005492386873811483\n",
      "35 : 0.00015301992243621498\n",
      "36 : 0.005528195295482874\n",
      "37 : 0.003445232519879937\n",
      "38 : 0.0064267246052622795\n",
      "39 : 0.06355494260787964\n",
      "40 : 7.898828698671423e-06\n",
      "41 : 0.0001321974559687078\n",
      "42 : 0.0001555820053908974\n",
      "43 : 0.00019364285981282592\n",
      "44 : 0.006057926453649998\n",
      "45 : 2.369135654589627e-05\n",
      "46 : 0.004994186107069254\n",
      "47 : 6.245581516850507e-06\n",
      "48 : 0.011665590107440948\n",
      "49 : 0.0017035230994224548\n",
      "50 : 0.010264848358929157\n",
      "51 : 0.0315324068069458\n",
      "52 : 0.036746181547641754\n",
      "53 : 1.8301101590623148e-05\n",
      "54 : 0.0001444182125851512\n",
      "55 : 0.0010090427240356803\n",
      "56 : 9.984685675590299e-06\n",
      "57 : 2.914356991823297e-05\n",
      "58 : 0.000449752522399649\n",
      "59 : 0.0001700420252745971\n",
      "60 : 0.0029897436033934355\n",
      "61 : 3.4928066838801897e-07\n",
      "62 : 0.026895413175225258\n",
      "63 : 9.95174705167301e-05\n",
      "64 : 0.0047805579379200935\n",
      "65 : 3.664214773380081e-06\n",
      "66 : 0.04049740359187126\n",
      "67 : 0.00047989352606236935\n",
      "68 : 4.4894899474456906e-05\n",
      "69 : 0.00028544862288981676\n",
      "70 : 0.0003614200686570257\n",
      "71 : 0.0007022459176369011\n",
      "72 : 0.0030904493760317564\n",
      "73 : 0.0024173755664378405\n",
      "74 : 1.14300355562591e-05\n",
      "75 : 8.117986567413027e-07\n",
      "76 : 2.2040997009753482e-06\n",
      "77 : 3.57627816249817e-09\n",
      "78 : 1.2713379874185193e-05\n",
      "79 : 1.1491126770124538e-06\n",
      "80 : 7.629384413121443e-08\n",
      "81 : 0.0007817188743501902\n",
      "82 : 0.00019998880452476442\n",
      "83 : 5.494905781233683e-05\n",
      "84 : 0.04879507049918175\n",
      "85 : 0.058580584824085236\n",
      "86 : 1.3947389732038573e-07\n",
      "87 : 9.53674117454284e-09\n",
      "88 : 9.655926902496503e-08\n",
      "89 : 1.0967215757773374e-07\n",
      "90 : 4.390662434161641e-05\n",
      "91 : 0.05992467701435089\n",
      "92 : 2.0980631632028235e-07\n",
      "93 : 0.005032120272517204\n",
      "94 : 9.538500307826325e-05\n",
      "95 : 9.53674117454284e-09\n",
      "96 : 3.3208145850949222e-06\n",
      "97 : 1.19209286886246e-09\n",
      "98 : 7.4073177529498935e-06\n"
     ]
    }
   ],
   "source": [
    "for epochs in range(num_epochs):\n",
    "    for i, (images, labels) in enumerate(train_loader):\n",
    "\n",
    "        #forward\n",
    "        # print(images.shape)\n",
    "        outputs = model.forward(images)\n",
    "        loss = criterion(outputs,labels)\n",
    "\n",
    "        #backward\n",
    "        optimiser.zero_grad()\n",
    "        loss.backward()\n",
    "        optimiser.step()\n",
    "\n",
    "\n",
    "\n",
    "    \n",
    "    print(epochs, \":\", loss.item())\n",
    "\n",
    "\n"
   ]
  },
  {
   "cell_type": "code",
   "execution_count": 17,
   "metadata": {},
   "outputs": [
    {
     "name": "stdout",
     "output_type": "stream",
     "text": [
      "Training Accuracy of the network on the 42000 test images: 99.75238095238095 %\n"
     ]
    }
   ],
   "source": [
    "with torch.no_grad():\n",
    "    n_correct = 0\n",
    "    n_samples = 0\n",
    "    for images, labels in train_loader:\n",
    "        outputs = model(images)\n",
    "        _, predicted = torch.max(outputs.data, 1)\n",
    "        n_samples += labels.size(0)\n",
    "        n_correct += (predicted == labels).sum().item()\n",
    "\n",
    "    acc = 100.0 * n_correct / n_samples\n",
    "    print(f'Training Accuracy of the network on the {n_samples} test images: {acc} %')"
   ]
  },
  {
   "cell_type": "code",
   "execution_count": 15,
   "metadata": {},
   "outputs": [],
   "source": [
    "torch.save(model, \"model_orig.pt\")"
   ]
  },
  {
   "cell_type": "markdown",
   "metadata": {},
   "source": [
    "## Evaluation"
   ]
  },
  {
   "cell_type": "code",
   "execution_count": null,
   "metadata": {},
   "outputs": [],
   "source": []
  },
  {
   "cell_type": "code",
   "execution_count": 120,
   "metadata": {},
   "outputs": [
    {
     "name": "stdout",
     "output_type": "stream",
     "text": [
      "Accuracy of the network on the 42000 training sample images: 99.75238095238095 %\n"
     ]
    }
   ],
   "source": [
    "header = ['ImageId','Labelpred','Label']\n",
    "with open('resultcrosscheck.csv', 'w') as f:\n",
    "    writer = csv.writer(f)\n",
    "    writer.writerow(header)\n",
    "    with torch.no_grad():\n",
    "        n_correct = 0\n",
    "        n_samples = 0\n",
    "        not_correct = [0,0,0,0,0,0,0,0,0,0]\n",
    "        not_correct_idcs = [[],[],[],[],[],[],[],[],[],[]]\n",
    "\n",
    "        i = 0\n",
    "        index = []\n",
    "        for train_row in training_df.to_numpy():\n",
    "            label = train_row[0]\n",
    "            img = train_row[1:]\n",
    "\n",
    "            img = torch.unsqueeze(torch.tensor(img, dtype=torch.float), 0)\n",
    "            outputs = model(img)\n",
    "            _, predicted = torch.max(outputs.data, 1)\n",
    "            # print(predicted.shape)\n",
    "            n_samples += 1\n",
    "            # n_correct += (predicted == label).sum().item()\n",
    "            if predicted == label:\n",
    "                n_correct += 1\n",
    "            else:\n",
    "                not_correct[label] += 1\n",
    "                not_correct_idcs[label].append(i)\n",
    "\n",
    "            row = (i,int(predicted),training_set[i,0])\n",
    "            writer.writerow(row)\n",
    "            i += 1\n",
    "            \n",
    "\n",
    "        acc = 100.0 * n_correct / n_samples\n",
    "        print(f'Accuracy of the network on the {n_samples} training sample images: {acc} %')\n",
    "\n",
    "    \n",
    "\n"
   ]
  },
  {
   "cell_type": "code",
   "execution_count": 121,
   "metadata": {},
   "outputs": [
    {
     "name": "stdout",
     "output_type": "stream",
     "text": [
      "[3217, 4711, 5026, 6580, 8838, 10195, 10544, 10704, 11948, 14372, 14434, 14569, 16301, 18303, 20898, 21127, 22588, 23788, 26182, 26428, 30119, 31754, 33952]\n"
     ]
    }
   ],
   "source": [
    "not_correct\n",
    "print(not_correct_idcs[4])\n"
   ]
  },
  {
   "cell_type": "code",
   "execution_count": 71,
   "metadata": {},
   "outputs": [],
   "source": [
    "import matplotlib.pyplot as plt"
   ]
  },
  {
   "cell_type": "code",
   "execution_count": 94,
   "metadata": {},
   "outputs": [
    {
     "data": {
      "image/png": "[encoded data removed]",
      "text/plain": [
       "<Figure size 640x480 with 1 Axes>"
      ]
     },
     "metadata": {},
     "output_type": "display_data"
    }
   ],
   "source": [
    "x = np.linspace(0,9,10)\n",
    "\n",
    "plt.bar(x, not_correct)\n",
    "plt.xticks(x)\n",
    "plt.xlabel(\"Digits\")\n",
    "plt.ylabel(\"freq\")\n",
    "plt.title(\"incorrect digits\")\n",
    "plt.show()"
   ]
  },
  {
   "cell_type": "code",
   "execution_count": 13,
   "metadata": {},
   "outputs": [],
   "source": [
    "header = ['ImageId','Label']\n",
    "with open('result1.csv', 'w') as f:\n",
    "    writer = csv.writer(f)\n",
    "    writer.writerow(header)\n",
    "    with torch.no_grad():\n",
    "        n_correct = 0\n",
    "        n_samples = 0\n",
    "        i = 1\n",
    "        for images in test_loader:\n",
    "            outputs = model(images)\n",
    "            _, predicted = torch.max(outputs.data, 1)\n",
    "            row = (i,int(predicted))\n",
    "            writer.writerow(row)\n",
    "            i += 1\n",
    "            # n_samples += labels.size(0)\n",
    "            # n_correct += (predicted == labels).sum().item()\n",
    "\n",
    "        # acc = 100.0 * n_correct / n_samples\n",
    "        # print(f'Accuracy of the network on the {n_samples} training sample images: {acc} %')"
   ]
  },
  {
   "cell_type": "code",
   "execution_count": null,
   "metadata": {},
   "outputs": [],
   "source": []
  },
  {
   "cell_type": "code",
   "execution_count": 116,
   "metadata": {},
   "outputs": [
    {
     "data": {
      "image/png": "[encoded data removed]",
      "text/plain": [
       "<Figure size 640x480 with 2 Axes>"
      ]
     },
     "metadata": {},
     "output_type": "display_data"
    },
    {
     "name": "stdout",
     "output_type": "stream",
     "text": [
      "model prediction: 9\n",
      "model 2 prediction: 9\n"
     ]
    }
   ],
   "source": [
    "import cv2\n",
    "import pylab as plt\n",
    "import numpy as np\n",
    "\n",
    "\n",
    "test_number = 3\n",
    "test_pic = training_df.to_numpy()\n",
    "test_pic = test_pic[test_number,1:].reshape(28,28)\n",
    "test_pic.shape\n",
    "# cv2.imshow(\"number\", test_pic)\n",
    "df = pd.read_csv('result.csv')\n",
    "df2 = pd.read_csv('result1.csv')\n",
    "\n",
    "Z= test_pic\n",
    "im = plt.imshow(Z, cmap='gray')\n",
    "plt.colorbar(im, orientation='horizontal')\n",
    "plt.title(f\"Dataset no.{test_number+1}\")\n",
    "plt.xlabel(f\"Model Original: {df.iloc[test_number,1]} | Model Current: {df2.iloc[test_number,1]}\")\n",
    "plt.show()\n",
    "\n",
    "\n",
    "print('model prediction:',df.iloc[test_number,1])\n",
    "print('model 2 prediction:',df2.iloc[test_number,1])\n",
    "\n",
    "\n"
   ]
  },
  {
   "cell_type": "code",
   "execution_count": 58,
   "metadata": {},
   "outputs": [
    {
     "data": {
      "text/plain": [
       "1"
      ]
     },
     "execution_count": 58,
     "metadata": {},
     "output_type": "execute_result"
    }
   ],
   "source": [
    "test_pic = training_df.to_numpy()\n",
    "eaach = test_pic[0]\n",
    "eaach[0]"
   ]
  },
  {
   "cell_type": "code",
   "execution_count": 65,
   "metadata": {},
   "outputs": [
    {
     "name": "stdout",
     "output_type": "stream",
     "text": [
      "942\n"
     ]
    }
   ],
   "source": [
    "not_same = []\n",
    "for i in range(27999):\n",
    "    if df.iloc[i,1] == df2.iloc[i,1]:\n",
    "        pass\n",
    "    else:\n",
    "        not_same.append(i+1)\n",
    "print(len(not_same))"
   ]
  },
  {
   "cell_type": "code",
   "execution_count": 111,
   "metadata": {},
   "outputs": [
    {
     "data": {
      "image/png": "[encoded data removed]",
      "text/plain": [
       "<Figure size 640x480 with 2 Axes>"
      ]
     },
     "metadata": {},
     "output_type": "display_data"
    },
    {
     "data": {
      "text/plain": [
       "(28, 28)"
      ]
     },
     "execution_count": 111,
     "metadata": {},
     "output_type": "execute_result"
    }
   ],
   "source": [
    "import numpy as np\n",
    "import cv2\n",
    "\n",
    "fig, (ax1, ax2) = plt.subplots(1,2, sharey=True)\n",
    "path1 = \"four.jpeg\"\n",
    "img_cv = cv2.imread(path1)\n",
    "img_cv = cv2.resize(img_cv, (28,28))\n",
    "ax1.imshow(img_cv, cmap='gray')\n",
    "img_grey = cv2.cvtColor(img_cv, cv2.COLOR_BGR2GRAY)\n",
    "ax2.imshow(img_grey, cmap='gray')\n",
    "# img_grey = cv2.cvtColor(img_cv, cv2.COLOR_BGR2GRAY)\n",
    "img = np.asarray(img_grey)\n",
    "\n",
    "plt.show()\n",
    "img.shape\n",
    "\n"
   ]
  },
  {
   "cell_type": "code",
   "execution_count": 112,
   "metadata": {},
   "outputs": [
    {
     "data": {
      "text/plain": [
       "255"
      ]
     },
     "execution_count": 112,
     "metadata": {},
     "output_type": "execute_result"
    }
   ],
   "source": [
    "img.max()"
   ]
  },
  {
   "cell_type": "markdown",
   "metadata": {},
   "source": [
    "# change to row vector\n",
    "\n",
    "```python\n",
    "np.ravel()\n",
    "```"
   ]
  },
  {
   "cell_type": "code",
   "execution_count": 113,
   "metadata": {},
   "outputs": [
    {
     "name": "stdout",
     "output_type": "stream",
     "text": [
      "tensor([[ 2.0833, -1.4032,  3.0740,  0.9953,  0.8953,  1.3519,  3.1572, -3.6180,\n",
      "          4.0207,  1.5198]])\n",
      "Predicted number: tensor([8])\n"
     ]
    },
    {
     "data": {
      "image/png": "[encoded data removed]",
      "text/plain": [
       "<Figure size 640x480 with 1 Axes>"
      ]
     },
     "metadata": {},
     "output_type": "display_data"
    }
   ],
   "source": [
    "with torch.no_grad():\n",
    "    plt.imshow(img, cmap='gray')\n",
    "    img_tens = torch.tensor(img.ravel(),dtype=torch.float)\n",
    "    img_tens = torch.unsqueeze(img_tens, 0)\n",
    "    predict = model.forward(img_tens)\n",
    "print(predict)\n",
    "_, pred_cls = torch.max(predict.data, 1)\n",
    "print(f\"Predicted number: {pred_cls}\")"
   ]
  },
  {
   "cell_type": "code",
   "execution_count": 35,
   "metadata": {},
   "outputs": [
    {
     "data": {
      "text/plain": [
       "tensor([2])"
      ]
     },
     "execution_count": 35,
     "metadata": {},
     "output_type": "execute_result"
    }
   ],
   "source": [
    "\n",
    "\n"
   ]
  },
  {
   "cell_type": "code",
   "execution_count": 72,
   "metadata": {},
   "outputs": [
    {
     "data": {
      "text/plain": [
       "21.23597"
      ]
     },
     "execution_count": 72,
     "metadata": {},
     "output_type": "execute_result"
    }
   ],
   "source": [
    "train[0].numpy().mean()\n"
   ]
  },
  {
   "cell_type": "code",
   "execution_count": 24,
   "metadata": {},
   "outputs": [
    {
     "data": {
      "text/plain": [
       "torch.Size([784])"
      ]
     },
     "execution_count": 24,
     "metadata": {},
     "output_type": "execute_result"
    }
   ],
   "source": [
    "img_tens.shape"
   ]
  },
  {
   "cell_type": "code",
   "execution_count": 25,
   "metadata": {},
   "outputs": [
    {
     "data": {
      "text/plain": [
       "torch.Size([100, 784])"
      ]
     },
     "execution_count": 25,
     "metadata": {},
     "output_type": "execute_result"
    }
   ],
   "source": [
    "img, lab = next(iter(train_loader))\n",
    "\n",
    "img.shape"
   ]
  },
  {
   "cell_type": "code",
   "execution_count": null,
   "metadata": {},
   "outputs": [],
   "source": [
    "with torch.no_grad():\n",
    "    n_correct = 0\n",
    "    n_samples = 0\n",
    "    for images, labels in train_loader:\n",
    "        outputs = model(images)\n",
    "        _, predicted = torch.max(outputs.data, 1)\n",
    "        n_samples += labels.size(0)\n",
    "        n_correct += (predicted == labels).sum().item()\n",
    "\n",
    "    acc = 100.0 * n_correct / n_samples\n",
    "    print(f'Training Accuracy of the network on the {n_samples} test images: {acc} %')"
   ]
  }
 ],
 "metadata": {
  "kernelspec": {
   "display_name": "Python 3.10.4 ('opencvenv')",
   "language": "python",
   "name": "python3"
  },
  "language_info": {
   "codemirror_mode": {
    "name": "ipython",
    "version": 3
   },
   "file_extension": ".py",
   "mimetype": "text/x-python",
   "name": "python",
   "nbconvert_exporter": "python",
   "pygments_lexer": "ipython3",
   "version": "3.10.4"
  },
  "orig_nbformat": 4,
  "vscode": {
   "interpreter": {
    "hash": "e1319b8576365f2f3447aad0ea15298de21378a0361ca0dd76b5ace8a9d30f92"
   }
  }
 },
 "nbformat": 4,
 "nbformat_minor": 2
}
