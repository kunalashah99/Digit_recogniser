{
 "cells": [
  {
   "cell_type": "markdown",
   "metadata": {},
   "source": [
    "# Imports"
   ]
  },
  {
   "cell_type": "code",
   "execution_count": 88,
   "metadata": {},
   "outputs": [],
   "source": [
    "import torch\n",
    "import torch.nn as nn\n",
    "import  numpy as np  \n",
    "import torchvision\n",
    "import torchvision.transforms as transforms\n",
    "import pandas as pd\n",
    "import csv                 \n"
   ]
  },
  {
   "cell_type": "markdown",
   "metadata": {},
   "source": [
    "# Data loading"
   ]
  },
  {
   "cell_type": "code",
   "execution_count": 146,
   "metadata": {},
   "outputs": [],
   "source": [
    "from asyncio.unix_events import BaseChildWatcher\n",
    "\n",
    "\n",
    "input_size = 784\n",
    "hidden_size = 100\n",
    "hidden_size1 = 50 \n",
    "num_classes = 10\n",
    "num_epochs = 99\n",
    "learning_rate = 0.001\n",
    "batch_size = 100\n",
    "train_size = 42000\n",
    "\n",
    "\n",
    "training_df = pd.read_csv(\"train.csv\")\n",
    "test_df = pd.read_csv(\"test.csv\")\n",
    "\n",
    "training_set = training_df.to_numpy()\n",
    "test_set = test_df.to_numpy()\n",
    "test_set = torch.Tensor(test_set)\n",
    "\n",
    "# print(test_set.type())\n",
    "\n",
    "train = torch.tensor(training_set[0:train_size,1:],dtype=torch.float)\n",
    "# validation = torch.tensor(training_set[train_size:,1:],dtype=torch.float)\n",
    "\n",
    "labels_1 = torch.tensor(training_set[:train_size,0])\n",
    "# labels_2 = torch.tensor(training_set[train_size:,0])\n",
    "\n",
    "train_set = [(x,y) for x,y in zip(train, labels_1)]\n",
    "# valid_set = [(x,y) for x,y in zip(test, labels_2)]\n",
    "\n",
    "train_loader = torch.utils.data.DataLoader(dataset = train_set, batch_size= batch_size)\n",
    "test_loader = torch.utils.data.DataLoader(dataset = test_set)\n",
    "# valid_loader = torch.utils.data.DataLoader(dataset = valid_set)\n",
    "\n"
   ]
  },
  {
   "cell_type": "markdown",
   "metadata": {},
   "source": [
    "# Creating the Layers of the model"
   ]
  },
  {
   "cell_type": "code",
   "execution_count": 151,
   "metadata": {},
   "outputs": [],
   "source": [
    "class NeuralNet(nn.Module):\n",
    "    def __init__(self, input_size,hidden_size, hidden_size1 ,num_classes):\n",
    "        super(NeuralNet,self).__init__()\n",
    "        self.l1 = nn.Linear(input_size, hidden_size)\n",
    "        self.relu = nn.ReLU()\n",
    "        self.l2 = nn.Linear(hidden_size, hidden_size1)\n",
    "        self.l3 = nn.Linear (hidden_size1, num_classes)\n",
    "\n",
    "    def forward(self, x):\n",
    "        out =  self.l1(x)\n",
    "        out = self.relu(out)\n",
    "        out = self.l2(out)\n",
    "        out = self.relu(out)\n",
    "        out  = self.l3(out)\n",
    "        return out"
   ]
  },
  {
   "cell_type": "code",
   "execution_count": 152,
   "metadata": {},
   "outputs": [],
   "source": [
    "model = NeuralNet(input_size, hidden_size, hidden_size1, num_classes)\n",
    "criterion = nn.CrossEntropyLoss()\n",
    "optimiser =  torch.optim.Adam(model.parameters(), lr = learning_rate)"
   ]
  },
  {
   "cell_type": "markdown",
   "metadata": {},
   "source": [
    "# Itterations     "
   ]
  },
  {
   "cell_type": "code",
   "execution_count": 153,
   "metadata": {},
   "outputs": [
    {
     "name": "stdout",
     "output_type": "stream",
     "text": [
      "0 : 0.11949945241212845\n",
      "1 : 0.07637040317058563\n",
      "2 : 0.04818029701709747\n",
      "3 : 0.02066320925951004\n",
      "4 : 0.024771468713879585\n",
      "5 : 0.07663130015134811\n",
      "6 : 0.11598420143127441\n",
      "7 : 0.010200552642345428\n",
      "8 : 0.004613140597939491\n",
      "9 : 0.06974855065345764\n",
      "10 : 0.02051982656121254\n",
      "11 : 0.013673612847924232\n",
      "12 : 0.008942343294620514\n",
      "13 : 0.022337231785058975\n",
      "14 : 0.002800854854285717\n",
      "15 : 0.01602502539753914\n",
      "16 : 0.008393585681915283\n",
      "17 : 0.007031999062746763\n",
      "18 : 0.003585232887417078\n",
      "19 : 0.005792798474431038\n",
      "20 : 0.00025255445507355034\n",
      "21 : 0.001413283171132207\n",
      "22 : 0.013556458055973053\n",
      "23 : 0.0075735836289823055\n",
      "24 : 0.012592175044119358\n",
      "25 : 0.00014440904487855732\n",
      "26 : 0.02191721275448799\n",
      "27 : 0.008580420166254044\n",
      "28 : 0.010984238237142563\n",
      "29 : 3.685814590426162e-05\n",
      "30 : 0.0006507794605568051\n",
      "31 : 0.046180859208106995\n",
      "32 : 0.00019918728503398597\n",
      "33 : 0.00014187100168783218\n",
      "34 : 0.00027896981919184327\n",
      "35 : 0.07013764977455139\n",
      "36 : 0.014296323992311954\n",
      "37 : 0.004477542359381914\n",
      "38 : 0.03827819600701332\n",
      "39 : 0.00015668076230213046\n",
      "40 : 0.011577787809073925\n",
      "41 : 0.007898595184087753\n",
      "42 : 1.3673051171281259e-06\n",
      "43 : 2.1587766241282225e-06\n",
      "44 : 0.0018508214270696044\n",
      "45 : 0.0063668908551335335\n",
      "46 : 2.561720975791104e-05\n",
      "47 : 0.012905392795801163\n",
      "48 : 3.3057000109693035e-05\n",
      "49 : 9.700466034701094e-05\n",
      "50 : 0.059928011149168015\n",
      "51 : 0.00010268946789437905\n",
      "52 : 0.09014370292425156\n",
      "53 : 0.009724285453557968\n",
      "54 : 0.0432441271841526\n",
      "55 : 7.47429453440418e-07\n",
      "56 : 7.784108788655431e-07\n",
      "57 : 2.276885453511568e-07\n",
      "58 : 0.003048363607376814\n",
      "59 : 5.364412913877459e-08\n",
      "60 : 3.9725451642880216e-05\n",
      "61 : 0.0005345538374967873\n",
      "62 : 2.598748949367291e-07\n",
      "63 : 1.0621203045957373e-06\n",
      "64 : 0.021904995664954185\n",
      "65 : 0.001299945986829698\n",
      "66 : 1.0859401982088457e-06\n",
      "67 : 9.727225460665068e-07\n",
      "68 : 9.53674206272126e-09\n",
      "69 : 8.218901348300278e-05\n",
      "70 : 8.594691962571233e-07\n",
      "71 : 0.00018588584498502314\n",
      "72 : 3.540155739756301e-05\n",
      "73 : 0.0007570839952677488\n",
      "74 : 0.10322161018848419\n",
      "75 : 4.424137659952976e-05\n",
      "76 : 0.008734571747481823\n",
      "77 : 1.19209286886246e-09\n",
      "78 : 1.982269395739422e-06\n",
      "79 : 0.0002655152347870171\n",
      "80 : 2.264974163779243e-08\n",
      "81 : 0.09640643000602722\n",
      "82 : 1.0728833821360695e-08\n",
      "83 : 0.061153072863817215\n",
      "84 : 2.861018799649173e-08\n",
      "85 : 1.633162582947989e-07\n",
      "86 : 1.929913423737162e-06\n",
      "87 : 2.789459756513679e-07\n",
      "88 : 1.9238527784182224e-06\n",
      "89 : 0.00022419108427129686\n",
      "90 : 3.1232346486831375e-07\n",
      "91 : 7.033480869722553e-06\n",
      "92 : 5.483617826484988e-08\n",
      "93 : 5.844516181241488e-06\n",
      "94 : 0.007673225365579128\n",
      "95 : 7.354942681558896e-07\n",
      "96 : 0.05415068566799164\n",
      "97 : 1.094282879421371e-06\n",
      "98 : 6.377496788445569e-07\n"
     ]
    }
   ],
   "source": [
    "for epochs in range(num_epochs):\n",
    "    for i, (images, labels) in enumerate(train_loader):\n",
    "\n",
    "        #forward\n",
    "        # print(images.shape)\n",
    "        outputs = model.forward(images)\n",
    "        loss = criterion(outputs,labels)\n",
    "\n",
    "        #backward\n",
    "        optimiser.zero_grad()\n",
    "        loss.backward()\n",
    "        optimiser.step()\n",
    "\n",
    "\n",
    "\n",
    "    \n",
    "    print(epochs, \":\", loss.item())\n",
    "\n",
    "\n"
   ]
  },
  {
   "cell_type": "code",
   "execution_count": 154,
   "metadata": {},
   "outputs": [],
   "source": [
    "# with torch.no_grad():\n",
    "#     n_correct = 0\n",
    "#     n_samples = 0\n",
    "#     for images, labels in valid_loader:\n",
    "#         outputs = model(images)\n",
    "#         _, predicted = torch.max(outputs.data, 1)\n",
    "#         n_samples += labels.size(0)\n",
    "#         n_correct += (predicted == labels).sum().item()\n",
    "\n",
    "#     acc = 100.0 * n_correct / n_samples\n",
    "#     print(f'Training Accuracy of the network on the {n_samples} test images: {acc} %')"
   ]
  },
  {
   "cell_type": "code",
   "execution_count": 155,
   "metadata": {},
   "outputs": [
    {
     "name": "stdout",
     "output_type": "stream",
     "text": [
      "Accuracy of the network on the 42000 training sample images: 99.70714285714286 %\n"
     ]
    }
   ],
   "source": [
    "with torch.no_grad():\n",
    "    n_correct = 0\n",
    "    n_samples = 0\n",
    "    for images, labels in train_loader:\n",
    "        outputs = model(images)\n",
    "        _, predicted = torch.max(outputs.data, 1)\n",
    "        n_samples += labels.size(0)\n",
    "        n_correct += (predicted == labels).sum().item()\n",
    "\n",
    "    acc = 100.0 * n_correct / n_samples\n",
    "    print(f'Accuracy of the network on the {n_samples} training sample images: {acc} %')"
   ]
  },
  {
   "cell_type": "code",
   "execution_count": 156,
   "metadata": {},
   "outputs": [],
   "source": [
    "header = ['ImageId','Label']\n",
    "with open('result1.csv', 'w') as f:\n",
    "    writer = csv.writer(f)\n",
    "    writer.writerow(header)\n",
    "    with torch.no_grad():\n",
    "        n_correct = 0\n",
    "        n_samples = 0\n",
    "        i = 1\n",
    "        for images in test_loader:\n",
    "            outputs = model(images)\n",
    "            _, predicted = torch.max(outputs.data, 1)\n",
    "            row = (i,int(predicted))\n",
    "            writer.writerow(row)\n",
    "            i += 1\n",
    "            # n_samples += labels.size(0)\n",
    "            # n_correct += (predicted == labels).sum().item()\n",
    "\n",
    "        # acc = 100.0 * n_correct / n_samples\n",
    "        # print(f'Accuracy of the network on the {n_samples} training sample images: {acc} %')"
   ]
  },
  {
   "cell_type": "code",
   "execution_count": 142,
   "metadata": {},
   "outputs": [
    {
     "data": {
      "image/png": "[encoded data removed]",
      "text/plain": [
       "<Figure size 640x480 with 2 Axes>"
      ]
     },
     "metadata": {},
     "output_type": "display_data"
    },
    {
     "name": "stdout",
     "output_type": "stream",
     "text": [
      "model prediction: 4\n",
      "model 2 prediction: 4\n"
     ]
    }
   ],
   "source": [
    "import cv2\n",
    "import pylab as plt\n",
    "import numpy as np\n",
    "\n",
    "\n",
    "test_number = 25\n",
    "test_pic = test_df.to_numpy()\n",
    "test_pic = test_pic[test_number,:].reshape(28,28)\n",
    "test_pic.shape\n",
    "# cv2.imshow(\"number\", test_pic)\n",
    "\n",
    "Z= test_pic\n",
    "im = plt.imshow(Z, cmap='gray')\n",
    "plt.colorbar(im, orientation='horizontal')\n",
    "plt.show()\n",
    "\n",
    "\n",
    "df = pd.read_csv('result.csv')\n",
    "df2 = pd.read_csv('result1.csv')\n",
    "print('model prediction:',df.iloc[test_number,1])\n",
    "print('model 2 prediction:',df2.iloc[test_number,1])\n",
    "\n",
    "\n"
   ]
  },
  {
   "cell_type": "code",
   "execution_count": 157,
   "metadata": {},
   "outputs": [
    {
     "name": "stdout",
     "output_type": "stream",
     "text": [
      "[]\n"
     ]
    }
   ],
   "source": [
    "not_same = []\n",
    "for i in range(27999):\n",
    "    if df.iloc[test_number,1] == df2.iloc[test_number,1]:\n",
    "        pass\n",
    "    else:\n",
    "        not_same.append(i+1)\n",
    "print(not_same)"
   ]
  },
  {
   "cell_type": "code",
   "execution_count": null,
   "metadata": {},
   "outputs": [],
   "source": []
  }
 ],
 "metadata": {
  "kernelspec": {
   "display_name": "Python 3.10.4 ('opencvenv')",
   "language": "python",
   "name": "python3"
  },
  "language_info": {
   "codemirror_mode": {
    "name": "ipython",
    "version": 3
   },
   "file_extension": ".py",
   "mimetype": "text/x-python",
   "name": "python",
   "nbconvert_exporter": "python",
   "pygments_lexer": "ipython3",
   "version": "3.10.4"
  },
  "orig_nbformat": 4,
  "vscode": {
   "interpreter": {
    "hash": "e1319b8576365f2f3447aad0ea15298de21378a0361ca0dd76b5ace8a9d30f92"
   }
  }
 },
 "nbformat": 4,
 "nbformat_minor": 2
}
